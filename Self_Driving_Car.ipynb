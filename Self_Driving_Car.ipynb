{
  "nbformat": 4,
  "nbformat_minor": 0,
  "metadata": {
    "colab": {
      "name": "Self Driving Car.ipynb",
      "provenance": [],
      "authorship_tag": "ABX9TyOL3vbUyMllMO0h/2X+NsA9",
      "include_colab_link": true
    },
    "kernelspec": {
      "name": "Python 3.8.3 32-bit",
      "display_name": "Python 3.8.3 32-bit",
      "metadata": {
        "interpreter": {
          "hash": "31be3dc4d7515783ffb7f370c6e6c88ee88cafafd3bde4929a893c14d2409549"
        }
      }
    }
  },
  "cells": [
    {
      "cell_type": "markdown",
      "metadata": {
        "id": "view-in-github",
        "colab_type": "text"
      },
      "source": [
        "<a href=\"https://colab.research.google.com/github/Machine-ly/Self-Driving-Car/blob/master/Self_Driving_Car.ipynb\" target=\"_parent\"><img src=\"https://colab.research.google.com/assets/colab-badge.svg\" alt=\"Open In Colab\"/></a>"
      ]
    },
    {
      "cell_type": "markdown",
      "metadata": {
        "id": "8RBWIb1U92vY",
        "colab_type": "text"
      },
      "source": [
        "# Self Driving Car"
      ]
    },
    {
      "cell_type": "code",
      "metadata": {
        "id": "-RcD8O0H9xI5",
        "colab_type": "code",
        "colab": {}
      },
      "source": [
        "import numpy as np\n",
        "import pandas as pd\n",
        "import matplotlib.pyplot as plt\n",
        "import cv2\n",
        "import os\n"
      ],
      "execution_count": 1,
      "outputs": []
    },
    {
      "cell_type": "code",
      "execution_count": null,
      "metadata": {},
      "outputs": [],
      "source": [
        "data=pd.read_csv('driving_dataset/data.txt',sep=' ')"
      ]
    },
    {
      "cell_type": "code",
      "execution_count": null,
      "metadata": {},
      "outputs": [],
      "source": [
        "data.head()"
      ]
    },
    {
      "cell_type": "code",
      "execution_count": null,
      "metadata": {},
      "outputs": [],
      "source": [
        "data=data.values\n",
        "x_data=data[:,0]\n",
        "y_data=data[:,1]\n",
        "print(x_data.shape,y_data.shape)"
      ]
    },
    {
      "cell_type": "code",
      "execution_count": null,
      "metadata": {},
      "outputs": [],
      "source": [
        "split=int(data.shape[0]*0.8)\n",
        "x_train=x_data[:split]\n",
        "x_test=x_data[split:]\n",
        "y_train=y_data[:split]\n",
        "y_test=y_data[split:]\n",
        "print(x_train.shape,y_train.shape)\n",
        "print(x_test.shape,y_test.shape)"
      ]
    },
    {
      "cell_type": "code",
      "execution_count": null,
      "metadata": {},
      "outputs": [],
      "source": [
        "temp=list(zip(x_train,y_train))\n",
        "np.random.shuffle(temp)\n",
        "x_train,y_train=zip(*temp)\n",
        "\n",
        "temp2=list(zip(x_test,y_test))\n",
        "np.random.shuffle(temp2)\n",
        "x_test,y_test=zip(*temp2)"
      ]
    },
    {
      "cell_type": "code",
      "execution_count": null,
      "metadata": {},
      "outputs": [],
      "source": [
        "y_train=np.array(y_train)\n",
        "y_test=np.array(y_test)"
      ]
    },
    {
      "cell_type": "code",
      "execution_count": null,
      "metadata": {},
      "outputs": [],
      "source": [
        "y_train=y_train*(np.pi/180)\n",
        "y_test=y_test*(np.pi/180)"
      ]
    },
    {
      "cell_type": "code",
      "execution_count": null,
      "metadata": {},
      "outputs": [],
      "source": [
        "plt.hist(y_train, bins=50, density=True, color='green', histtype ='step');\n",
        "plt.hist(y_test, bins=50, density=True, color='red', histtype ='step');\n",
        "plt.show()"
      ]
    },
    {
      "cell_type": "code",
      "execution_count": null,
      "metadata": {},
      "outputs": [],
      "source": []
    }
  ]
}